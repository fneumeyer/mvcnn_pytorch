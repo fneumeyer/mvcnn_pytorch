{
 "cells": [
  {
   "cell_type": "code",
   "execution_count": 67,
   "source": [
    "import torch\r\n",
    "from tools.visualize_mesh import visualize_occupancy\r\n",
    "\r\n",
    "pred = torch.load(\"pred.pth\") > 0.5\r\n",
    "grid = torch.load(\"grid.pth\")\r\n",
    "#grid[0, 0, 0, 0] = 1\r\n",
    "#grid[0, 63, 63, 63] = 1\r\n",
    "\r\n",
    "print(torch.numel(grid))\r\n",
    "print(torch.sum(grid))\r\n",
    "visualize_occupancy(torch.squeeze(torch.squeeze(pred, 0), 0).cpu().data.numpy())\r\n",
    "visualize_occupancy(torch.squeeze(grid, 0).cpu().data.numpy())\r\n"
   ],
   "outputs": [
    {
     "output_type": "stream",
     "name": "stdout",
     "text": [
      "262144\n",
      "tensor(1682)\n"
     ]
    },
    {
     "output_type": "display_data",
     "data": {
      "text/plain": [
       "Output()"
      ],
      "application/vnd.jupyter.widget-view+json": {
       "version_major": 2,
       "version_minor": 0,
       "model_id": "c05ee8e5cf7f41ecbae0289111c4afcc"
      }
     },
     "metadata": {}
    },
    {
     "output_type": "display_data",
     "data": {
      "text/plain": [
       "Output()"
      ],
      "application/vnd.jupyter.widget-view+json": {
       "version_major": 2,
       "version_minor": 0,
       "model_id": "8d1871113d8a4249ba815413275af88e"
      }
     },
     "metadata": {}
    }
   ],
   "metadata": {}
  }
 ],
 "metadata": {
  "orig_nbformat": 4,
  "language_info": {
   "name": "python"
  }
 },
 "nbformat": 4,
 "nbformat_minor": 2
}